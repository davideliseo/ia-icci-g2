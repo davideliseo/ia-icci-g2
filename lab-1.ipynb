{
  "nbformat": 4,
  "nbformat_minor": 0,
  "metadata": {
    "colab": {
      "provenance": [],
      "include_colab_link": true
    },
    "kernelspec": {
      "name": "python3",
      "display_name": "Python 3"
    },
    "language_info": {
      "name": "python"
    },
    "gpuClass": "standard"
  },
  "cells": [
    {
      "cell_type": "markdown",
      "metadata": {
        "id": "view-in-github",
        "colab_type": "text"
      },
      "source": [
        "<a href=\"https://colab.research.google.com/github/davideliseo/ia-icci-g2/blob/main/lab-1.ipynb\" target=\"_parent\"><img src=\"https://colab.research.google.com/assets/colab-badge.svg\" alt=\"Open In Colab\"/></a>"
      ]
    },
    {
      "cell_type": "markdown",
      "source": [
        "# Laboratorio 1 - Reconocimiento de imágenes\n",
        "\n",
        "- **Grupo**: 2\n",
        "- **Integrantes**: Lukas Poffal Munita y David Uribe Fuentes"
      ],
      "metadata": {
        "id": "GEIRneY-lCf4"
      }
    },
    {
      "cell_type": "markdown",
      "source": [
        "## 1. Modelo\n",
        "\n",
        "### 1.1. Configuración"
      ],
      "metadata": {
        "id": "dsavvtgClRhi"
      }
    },
    {
      "cell_type": "code",
      "source": [
        "import numpy as np                              # NumPy es una librería para computación numérica en Python, que proporciona soporte para arreglos, matrices y diversas operaciones matemáticas.\n",
        "import tensorflow as tf                         # Esta línea importa la librería Keras desde TensorFlow. Keras es una API de redes neuronales de alto nivel escrita en Python, que se ejecuta sobre TensorFlow. Keras se utiliza para construir y entrenar modelos de redes neuronales.                     \n",
        "from tensorflow.keras import layers, Model      # Keras proporciona diversas capas predefinidas, como capas densas, convolucionales, recurrentes, de agrupamiento, de normalización, entre otras. Al importar el módulo de capas, se pueden utilizar estas capas para construir modelos de redes neuronales en TensorFlow."
      ],
      "metadata": {
        "id": "5kT2irF0m-P1"
      },
      "execution_count": 1,
      "outputs": []
    },
    {
      "cell_type": "code",
      "source": [
        "# Monta la unidad de Google Drive en Google Colab y establecer la ubicación de la carpeta que se utilizará para trabajar en el notebook.\n",
        "from google.colab import drive                            \n",
        "drive.mount(\"/content/drive\", force_remount=True)\n",
        "\n",
        "PATH = \"/content/drive/Shareddrives/G2 - IA/Lab 1\"\n",
        "WEIGHTS_PATH = f\"{PATH}/out/checkpoint/weights\"\n",
        "LOG_PATH = f\"{PATH}/out/log.csv\""
      ],
      "metadata": {
        "id": "yRq1J_AwAmBz",
        "colab": {
          "base_uri": "https://localhost:8080/"
        },
        "outputId": "29cebbba-d78e-43c3-9824-83583e6180fd"
      },
      "execution_count": 2,
      "outputs": [
        {
          "output_type": "stream",
          "name": "stdout",
          "text": [
            "Mounted at /content/drive\n"
          ]
        }
      ]
    },
    {
      "cell_type": "markdown",
      "source": [
        "### 1.2. Carga de datos"
      ],
      "metadata": {
        "id": "d6IrcuAqlcpA"
      }
    },
    {
      "cell_type": "code",
      "source": [
        "# Modelo / parámetros de los datos\n",
        "NUM_CLASSES = 10 # Cantidad de dígitos distinguibles\n",
        "IMAGE_SHAPE = (28, 28)\n",
        "INPUT_SHAPE = (*IMAGE_SHAPE, 1)\n",
        "\n",
        "# Carga los\n",
        "def load_data():\n",
        "  return tf.keras.datasets.mnist.load_data()"
      ],
      "metadata": {
        "id": "ScAD6oxtnCG7"
      },
      "execution_count": 3,
      "outputs": []
    },
    {
      "cell_type": "markdown",
      "source": [
        "### 1.3. Preprocesamiento de datos"
      ],
      "metadata": {
        "id": "fpB6PNslleVD"
      }
    },
    {
      "cell_type": "code",
      "source": [
        "def preprocess_data(data):\n",
        "  # Divide los datos entre el 'train' y los conjuntos de prueba 'test'\n",
        "  (x_train, y_train), (x_test, y_test) = data\n",
        "\n",
        "\n",
        "  # Escala imágenes al rango [0, 1]\n",
        "  x_train = x_train.astype(\"float32\") / 255\n",
        "  x_test = x_test.astype(\"float32\") / 255\n",
        "\n",
        "  # Asegura de que las imágenes tengan forma (28, 28, 1)\n",
        "  x_train = np.expand_dims(x_train, -1)\n",
        "  x_test = np.expand_dims(x_test, -1)\n",
        "\n",
        "  print(\"x_train shape:\", x_train.shape)\n",
        "  print(x_train.shape[0], \"train samples\")\n",
        "  print(x_test.shape[0], \"test samples\")\n",
        "\n",
        "  # Convierte los clase vectores en matrices de clase binaria\n",
        "  y_train = tf.keras.utils.to_categorical(y_train, NUM_CLASSES)\n",
        "  y_test = tf.keras.utils.to_categorical(y_test, NUM_CLASSES)\n",
        "  return (x_train, y_train), (x_test, y_test)"
      ],
      "metadata": {
        "id": "CXL-2GignFAW"
      },
      "execution_count": 4,
      "outputs": []
    },
    {
      "cell_type": "markdown",
      "source": [
        "### 1.4. Construcción"
      ],
      "metadata": {
        "id": "c8D7J1Xblw3y"
      }
    },
    {
      "cell_type": "code",
      "source": [
        "def assemble_model():\n",
        "  # Define un modelo de red neuronal convolucional (CNN) utilizando la API de Keras de TensorFlow\n",
        "  model = tf.keras.Sequential([\n",
        "      tf.keras.Input(shape=INPUT_SHAPE),\n",
        "      layers.Conv2D(32, kernel_size=(3, 3), activation=\"relu\"),\n",
        "      layers.MaxPooling2D(pool_size=(2, 2)),\n",
        "      layers.Conv2D(64, kernel_size=(3, 3), activation=\"relu\"),\n",
        "      layers.MaxPooling2D(pool_size=(2, 2)),\n",
        "      layers.Flatten(),\n",
        "      layers.Dropout(0.5),\n",
        "      layers.Dense(NUM_CLASSES, activation=\"softmax\"),\n",
        "  ])\n",
        "\n",
        "  # Configura el modelo para su entrenamiento\n",
        "  model.compile(\n",
        "      loss=\"categorical_crossentropy\", \n",
        "      optimizer=\"adam\", \n",
        "      metrics=[\"accuracy\"]\n",
        "  )\n",
        "\n",
        "  return model"
      ],
      "metadata": {
        "id": "cTSw4f2LnnHK"
      },
      "execution_count": 5,
      "outputs": []
    },
    {
      "cell_type": "markdown",
      "source": [
        "### 1.5. Entrenamiento\n"
      ],
      "metadata": {
        "id": "IAw6CqQIlzHQ"
      }
    },
    {
      "cell_type": "code",
      "source": [
        "def train_model(model: Model, x_train, y_train) -> Model:\n",
        "  # Se determina el tamaño del lote utilizado para entrenar el modelo\n",
        "  batch_size = 128\n",
        "\n",
        "  # Se determina el número de épocas, o iteraciones completas a través de todo el conjunto de datos de entrenamiento, que se utilizarán para entrenar el modelo\n",
        "  epochs = 15\n",
        "\n",
        "  # Define un objeto de registro que registra la información de la precisión y la pérdida del modelo durante el entrenamiento\n",
        "  logger = tf.keras.callbacks.CSVLogger(LOG_PATH, append=False)\n",
        "\n",
        "  # Se crea un objeto checkpointing que guarda los pesos del modelo después de cada época en la ubicación especificada en 'filepath'\n",
        "  checkpoint = tf.keras.callbacks.ModelCheckpoint(\n",
        "      filepath=WEIGHTS_PATH,\n",
        "      save_weights_only=True,\n",
        "      save_best_only=True,\n",
        "      save_freq=\"epoch\",\n",
        "      monitor=\"val_accuracy\",\n",
        "      mode=\"auto\",\n",
        "      verbose=1,\n",
        "  )\n",
        "\n",
        "  # Entrena el modelo utilizando los datos de entrenamiento (x_train e y_train)\n",
        "  model.fit(\n",
        "      x_train,\n",
        "      y_train,\n",
        "      batch_size=batch_size,\n",
        "      epochs=epochs,\n",
        "      validation_split=0.1,\n",
        "      callbacks=[logger, checkpoint]\n",
        "  )\n",
        "\n",
        "  return model"
      ],
      "metadata": {
        "id": "rWGRo8JonrME"
      },
      "execution_count": 6,
      "outputs": []
    },
    {
      "cell_type": "markdown",
      "source": [
        "### 1.6. Carga de pesos exportados"
      ],
      "metadata": {
        "id": "Roj_S1btP1ga"
      }
    },
    {
      "cell_type": "code",
      "source": [
        "def load_model(model: Model) -> Model:\n",
        "    model.load_weights(WEIGHTS_PATH)\n",
        "    return model"
      ],
      "metadata": {
        "id": "qv6-qDVcHihl"
      },
      "execution_count": 7,
      "outputs": []
    },
    {
      "cell_type": "markdown",
      "source": [
        "### 1.7. Evaluación y análisis"
      ],
      "metadata": {
        "id": "Y7x55eBdmEo3"
      }
    },
    {
      "cell_type": "code",
      "source": [
        "from PIL import Image\n",
        "import io\n",
        "\n",
        "def normalize_img(img: bytes):\n",
        "  img = Image.open(io.BytesIO(img))\n",
        "  img = img.convert(\"L\")\n",
        "  img = img.resize(IMAGE_SHAPE)\n",
        "  img_array = np.asarray(img) / 255.0\n",
        "  img_array = np.expand_dims(img_array, axis=0)\n",
        "  return img_array\n",
        "\n",
        "def classify_digit(model: Model, img: bytes):\n",
        "  img_array = normalize_img(img)\n",
        "  predictions = model.predict(img_array, verbose=0)\n",
        "  max_value = np.max(predictions)\n",
        "  max_index = np.argmax(predictions)\n",
        "  return max_index, max_value"
      ],
      "metadata": {
        "id": "h9SFVMEYpbjL"
      },
      "execution_count": 33,
      "outputs": []
    },
    {
      "cell_type": "code",
      "source": [
        "from enum import unique, Enum\n",
        "import os\n",
        "\n",
        "@unique\n",
        "class ModelMode(str, Enum):\n",
        "    AUTO = \"auto\"\n",
        "    LOAD = \"load\"\n",
        "    TRAIN = \"train\"\n",
        "\n",
        "model = assemble_model()\n",
        "(x_train, y_train), (x_test, y_test) = preprocess_data(load_data())\n",
        "\n",
        "mode = ModelMode.LOAD\n",
        "if mode == ModelMode.AUTO:\n",
        "    if os.path.isfile(WEIGHTS_PATH):\n",
        "        mode = ModelMode.LOAD \n",
        "    else: \n",
        "        mode = ModelMode.TRAIN\n",
        "\n",
        "if mode == ModelMode.LOAD:\n",
        "    model = load_model(model)\n",
        "\n",
        "elif mode == ModelMode.TRAIN:\n",
        "    model = train_model(model, x_train, y_train)"
      ],
      "metadata": {
        "id": "6EoS2Bcv9nkl",
        "colab": {
          "base_uri": "https://localhost:8080/"
        },
        "outputId": "d6359789-2614-429e-c9c2-2ef0cdecc6f9"
      },
      "execution_count": 9,
      "outputs": [
        {
          "output_type": "stream",
          "name": "stdout",
          "text": [
            "x_train shape: (60000, 28, 28, 1)\n",
            "60000 train samples\n",
            "10000 test samples\n"
          ]
        }
      ]
    },
    {
      "cell_type": "code",
      "source": [
        "with open(f\"{PATH}/test.png\", \"rb\") as f:\n",
        "  print(classify_digit(model, f.read()))"
      ],
      "metadata": {
        "id": "uaH8bbbxci-k",
        "colab": {
          "base_uri": "https://localhost:8080/"
        },
        "outputId": "0d8a7c48-33b3-45ad-b910-0b6b8bf9cd7b"
      },
      "execution_count": 10,
      "outputs": [
        {
          "output_type": "stream",
          "name": "stdout",
          "text": [
            "PNG\n",
            "1/1 [==============================] - 0s 301ms/step\n",
            "(7, 0.99999833)\n"
          ]
        }
      ]
    },
    {
      "cell_type": "markdown",
      "source": [
        "### 1.8. Validación"
      ],
      "metadata": {
        "id": "f2CLCv0Il2GZ"
      }
    },
    {
      "cell_type": "code",
      "source": [
        "# Se valida el modelo utilizando el conjunto de datos de prueba 'test'\n",
        "score = model.evaluate(x_test, y_test, verbose=0)\n",
        "print(\"Test loss:\", score[0])\n",
        "print(\"Test accuracy:\", score[1])\n",
        "\n",
        "# Imprime un resumen del modelo, que muestra la arquitectura de la red, el \n",
        "# número de parámetros entrenables y la forma de los datos en cada capa\n",
        "print(model.summary())\n",
        "\n",
        "from keras.utils import plot_model\n",
        "plot_model(model, show_layer_names=False, show_layer_activations=True)"
      ],
      "metadata": {
        "id": "SnvEq6X9nuCo",
        "colab": {
          "base_uri": "https://localhost:8080/",
          "height": 1000
        },
        "outputId": "b05dc483-a993-43b8-bfec-ffdd65cf7de9"
      },
      "execution_count": 11,
      "outputs": [
        {
          "output_type": "stream",
          "name": "stdout",
          "text": [
            "Test loss: 0.025668218731880188\n",
            "Test accuracy: 0.9916999936103821\n",
            "Model: \"sequential\"\n",
            "_________________________________________________________________\n",
            " Layer (type)                Output Shape              Param #   \n",
            "=================================================================\n",
            " conv2d (Conv2D)             (None, 26, 26, 32)        320       \n",
            "                                                                 \n",
            " max_pooling2d (MaxPooling2D  (None, 13, 13, 32)       0         \n",
            " )                                                               \n",
            "                                                                 \n",
            " conv2d_1 (Conv2D)           (None, 11, 11, 64)        18496     \n",
            "                                                                 \n",
            " max_pooling2d_1 (MaxPooling  (None, 5, 5, 64)         0         \n",
            " 2D)                                                             \n",
            "                                                                 \n",
            " flatten (Flatten)           (None, 1600)              0         \n",
            "                                                                 \n",
            " dropout (Dropout)           (None, 1600)              0         \n",
            "                                                                 \n",
            " dense (Dense)               (None, 10)                16010     \n",
            "                                                                 \n",
            "=================================================================\n",
            "Total params: 34,826\n",
            "Trainable params: 34,826\n",
            "Non-trainable params: 0\n",
            "_________________________________________________________________\n",
            "None\n"
          ]
        },
        {
          "output_type": "execute_result",
          "data": {
            "image/png": "[encoded data removed]",
            "text/plain": [
              "<IPython.core.display.Image object>"
            ]
          },
          "metadata": {},
          "execution_count": 11
        }
      ]
    },
    {
      "cell_type": "markdown",
      "source": [
        "## 2. Aplicación"
      ],
      "metadata": {
        "id": "E12e7QVpmKdy"
      }
    },
    {
      "cell_type": "markdown",
      "source": [
        "## Frontend"
      ],
      "metadata": {
        "id": "8Gzt40zuI3Iq"
      }
    },
    {
      "cell_type": "code",
      "source": [
        "from google.colab import output\n",
        "import IPython as ipy\n",
        "import base64\n",
        "import traceback\n",
        "\n",
        "def classify_digit_callback(img):\n",
        "  try:\n",
        "    _, img = img.split(\",\", 1) # Elimina el prefijo \"data:(...)\"\n",
        "    decoded = base64.b64decode(img)\n",
        "\n",
        "    digit, score = classify_digit(model, decoded)\n",
        "    return ipy.display.JSON(dict(digit=digit, score=score))\n",
        "  except Exception:\n",
        "    traceback.print_exc()\n",
        "\n",
        "output.register_callback(\"notebook.classify-digit\", classify_digit_callback)"
      ],
      "metadata": {
        "id": "W05sI-qcRJZo"
      },
      "execution_count": 53,
      "outputs": []
    },
    {
      "cell_type": "code",
      "source": [
        "ipy.display.HTML(f\"{PATH}/index.html\")"
      ],
      "metadata": {
        "colab": {
          "base_uri": "https://localhost:8080/",
          "height": 697
        },
        "id": "6GP8O6qzTEaB",
        "outputId": "dca5182f-f3c4-4cde-c371-783eb5d87853"
      },
      "execution_count": 55,
      "outputs": [
        {
          "output_type": "execute_result",
          "data": {
            "text/plain": [
              "<IPython.core.display.HTML object>"
            ],
            "text/html": [
              "<!DOCTYPE html>\n",
              "<html lang=\"en\">\n",
              "  <head>\n",
              "    <meta charset=\"UTF-8\" />\n",
              "    <meta http-equiv=\"X-UA-Compatible\" content=\"IE=edge\" />\n",
              "    <meta name=\"viewport\" content=\"width=device-width, initial-scale=1.0\" />\n",
              "    <title>Document</title>\n",
              "  </head>\n",
              "\n",
              "  <body>\n",
              "    <style>\n",
              "      :root {\n",
              "        --purple: 168, 85, 247;\n",
              "        --green: 16, 185, 129;\n",
              "        --red: 244, 63, 94;\n",
              "        --gray: 156, 163, 175;\n",
              "        --white: 226, 232, 240;\n",
              "        --black: 30, 41, 59;\n",
              "\n",
              "        font-size: 16px;\n",
              "        font-family: sans-serif;\n",
              "        color: rgba(var(--black));\n",
              "      }\n",
              "\n",
              "      @media screen and (prefers-color-scheme: dark) {\n",
              "        :root {\n",
              "        color: rgba(var(--white));\n",
              "        }\n",
              "      }\n",
              "\n",
              "      p, span {\n",
              "        opacity: 85%;\n",
              "      }\n",
              "\n",
              "      .layout {\n",
              "        display: grid;\n",
              "        place-items: center;\n",
              "        margin: 2.5rem auto;\n",
              "      }\n",
              "\n",
              "      #toolbar {\n",
              "        display: flex;\n",
              "        gap: 0 1rem;\n",
              "      }\n",
              "\n",
              "      #title {\n",
              "        font-size: 1.75rem;\n",
              "        margin-bottom: 0.75rem;\n",
              "      }\n",
              "\n",
              "      #subtitle {\n",
              "        margin-bottom: 2.5rem;\n",
              "      }\n",
              "\n",
              "      .underline {\n",
              "        display: inline;\n",
              "        box-shadow: inset 0 -0.5em 0 0 rgba(var(--purple), 0.25);\n",
              "      }\n",
              "\n",
              "      .button {\n",
              "        --color: var(--purple);\n",
              "        all: unset;\n",
              "        padding: 0.75rem 1rem;\n",
              "        background-color: rgba(var(--color));\n",
              "        border-radius: 0.75rem;\n",
              "        color: white;\n",
              "        font-weight: 600;\n",
              "        box-shadow: 0px 8px 19px -3px rgba(var(--color), 0.25);\n",
              "        cursor: pointer;\n",
              "        font-size: 0.85rem;\n",
              "      }\n",
              "\n",
              "      .button:disabled {\n",
              "        background-color: rgba(var(--gray));\n",
              "        box-shadow: none;\n",
              "        cursor: not-allowed;\n",
              "      }\n",
              "\n",
              "      input[type=\"file\"] {\n",
              "        display: none;\n",
              "      }\n",
              "\n",
              "      #button-classify {\n",
              "        --color: var(--green);\n",
              "      }\n",
              "\n",
              "      #button-delete {\n",
              "        --color: var(--red);\n",
              "        display: none;\n",
              "      }\n",
              "\n",
              "      #image-container {\n",
              "        display: none;\n",
              "        width: 256px;\n",
              "        height: 256px;\n",
              "        padding: 2rem 0;\n",
              "      }\n",
              "\n",
              "      #classification-container {\n",
              "        display: none;\n",
              "        flex-direction: column;\n",
              "        align-items: center;\n",
              "      }\n",
              "\n",
              "      #classification-digit {\n",
              "        font-size: 3rem;\n",
              "        font-weight: 400;\n",
              "        margin: 0.5rem 0;\n",
              "      }\n",
              "\n",
              "      #classification-score {\n",
              "        font-weight: 600;\n",
              "        opacity: 100%;\n",
              "      }\n",
              "    </style>\n",
              "\n",
              "    <div class=\"layout\">\n",
              "      <h1 id=\"title\" class=\"underline\">Reconocimiento de dígitos</h1>\n",
              "      <p id=\"subtitle\">Suba una imagen para clasificarla como un dígito del 0 al 9.</p>\n",
              "\n",
              "      <div id=\"toolbar\">\n",
              "        <label id=\"image-input-label\" class=\"button\" for=\"image-input\">Subir imagen</label>\n",
              "        <button id=\"button-delete\" class=\"button\" type=\"button\">Eliminar imagen</button>\n",
              "\n",
              "        <input type=\"file\" id=\"image-input\" name=\"imagen\" accept=\"image/*\" />\n",
              "        <button class=\"button\" id=\"button-classify\" type=\"submit\" disabled>Clasificar</button>\n",
              "      </div>\n",
              "\n",
              "      <img id=\"image-container\"></img>\n",
              "      <div id=\"classification-container\">\n",
              "        <span>El dígito más probable es:</span>\n",
              "        <h2 id=\"classification-digit\">7</h2>\n",
              "        <span>Con una probabilidad del <span id=\"classification-score\">100%</span>.</span>\n",
              "      </div>\n",
              "    </div>\n",
              "\n",
              "    <script>\n",
              "      var imageInput = document.querySelector(\"#image-input\");\n",
              "      var imageInputLabel = document.querySelector(\"#image-input-label\");\n",
              "      var imageContainer = document.querySelector(\"#image-container\");\n",
              "      var deleteButton = document.querySelector(\"#button-delete\");\n",
              "      var classifyButton = document.querySelector(\"#button-classify\");\n",
              "      var classificationContainer = document.querySelector(\"#classification-container\");\n",
              "\n",
              "      imageInput.addEventListener(\"change\", function (event) {\n",
              "        imageContainer.style.display = \"block\";\n",
              "        classifyButton.disabled = false;\n",
              "        deleteButton.style.display = \"block\";\n",
              "        imageInputLabel.style.display = \"none\";\n",
              "\n",
              "        var imageUrl = URL.createObjectURL(event.target.files[0]);\n",
              "        imageContainer.src = imageUrl;\n",
              "      });\n",
              "\n",
              "      deleteButton.addEventListener(\"click\", function () {\n",
              "        imageContainer.style.display = \"none\";\n",
              "        imageInputLabel.style.display = \"block\";\n",
              "        deleteButton.style.display = \"none\";\n",
              "        classifyButton.disabled = true;\n",
              "        classificationContainer.style.display = \"none\";\n",
              "      });\n",
              "\n",
              "      classifyButton.addEventListener(\"click\", async function () {\n",
              "        try {\n",
              "          const file = imageInput.files[0];\n",
              "          const reader = new FileReader();\n",
              "\n",
              "          reader.onload = async function () {\n",
              "            const image = reader.result;\n",
              "            const result = await google.colab.kernel.invokeFunction(\n",
              "              \"notebook.classify-digit\",\n",
              "              [image],\n",
              "              {}\n",
              "            );\n",
              "\n",
              "            const { digit, score } = result.data[\"application/json\"];\n",
              "\n",
              "            document\n",
              "              .querySelector(\"#classification-digit\")\n",
              "              .replaceChildren(document.createTextNode(digit));\n",
              "\n",
              "            document\n",
              "              .querySelector(\"#classification-score\")\n",
              "              .replaceChildren(document.createTextNode(`${(score * 100).toFixed(6)}%`));\n",
              "\n",
              "            classificationContainer.style.display = \"flex\";\n",
              "            classifyButton.style.disabled = true;\n",
              "          };\n",
              "\n",
              "          reader.readAsDataURL(file);\n",
              "        } catch (e) {\n",
              "          const content = document.createTextNode(e.message);\n",
              "          classificationContainer.replaceChildren(content);\n",
              "        }\n",
              "      });\n",
              "    </script>\n",
              "  </body>\n",
              "</html>\n",
              "\n"
            ]
          },
          "metadata": {},
          "execution_count": 55
        }
      ]
    }
  ]
}