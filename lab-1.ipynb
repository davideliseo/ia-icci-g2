{
  "nbformat": 4,
  "nbformat_minor": 0,
  "metadata": {
    "colab": {
      "provenance": [],
      "toc_visible": true,
      "include_colab_link": true
    },
    "kernelspec": {
      "name": "python3",
      "display_name": "Python 3"
    },
    "language_info": {
      "name": "python"
    },
    "gpuClass": "standard"
  },
  "cells": [
    {
      "cell_type": "markdown",
      "metadata": {
        "id": "view-in-github",
        "colab_type": "text"
      },
      "source": [
        "<a href=\"https://colab.research.google.com/github/davideliseo/ia-icci-g2/blob/main/lab-1.ipynb\" target=\"_parent\"><img src=\"https://colab.research.google.com/assets/colab-badge.svg\" alt=\"Open In Colab\"/></a>"
      ]
    },
    {
      "cell_type": "markdown",
      "source": [
        "# Laboratorio 1 - Reconocimiento de imágenes\n",
        "\n",
        "- **Grupo**: 2\n",
        "- **Integrantes**: Lukas Poffal Munita y David Uribe Fuentes\n",
        "\n",
        "Desarrollo de un modelo de clasificación de imágenes en dígitos del 0 al 9.\n",
        "\n",
        "La totalidad del notebook es no-interactiva, exceptuando la última celda, que corresponde al frontend de la aplicación. Por lo tanto, el notebook se debe ejecutar de inicio a final, sin mayores retrasos (a menos que la construcción del modelo se configure en `ModelMode.TRAIN`, ya que de esta manera se procedería a entrenar nuevamente el modelo)."
      ],
      "metadata": {
        "id": "GEIRneY-lCf4"
      }
    },
    {
      "cell_type": "markdown",
      "source": [
        "## 1. Modelo (backend)"
      ],
      "metadata": {
        "id": "dsavvtgClRhi"
      }
    },
    {
      "cell_type": "markdown",
      "source": [
        "### 1.1.a. Configuración del entorno"
      ],
      "metadata": {
        "id": "VQKcPXhR7ZUW"
      }
    },
    {
      "cell_type": "code",
      "source": [
        "# NumPy es una librería para computación numérica en Python, que proporciona \n",
        "# soporte para arreglos, matrices y diversas operaciones matemáticas.\n",
        "import numpy as np\n",
        "\n",
        "# Esta línea importa la librería Keras desde TensorFlow. Keras es una API de \n",
        "# redes neuronales de alto nivel escrita en Python, que se ejecuta sobre\n",
        "# TensorFlow. Keras se utiliza para construir y entrenar modelos de redes neuronales.                     \n",
        "import tensorflow as tf\n",
        "\n",
        "# Keras proporciona diversas capas predefinidas, como capas densas,\n",
        "# convolucionales, recurrentes, de agrupamiento, de normalización, entre otras. \n",
        "# Al importar el módulo de capas, se pueden utilizar estas capas para construir\n",
        "# modelos de redes neuronales en TensorFlow.\n",
        "from tensorflow.keras import layers, Model\n",
        "\n",
        "# Monta la unidad de Google Drive en Google Colab y establecer la ubicación\n",
        "# de la carpeta que se utilizará para trabajar en el notebook.\n",
        "from google.colab import drive                            \n",
        "drive.mount(\"/content/drive\", force_remount=True)\n",
        "\n",
        "PATH = \"/content/drive/Shareddrives/G2 - IA/Lab 1\"    # Ruta base de la aplicación.\n",
        "WEIGHTS_PATH = f\"{PATH}/out/checkpoint/weights\"       # Ruta de los pesos del modelo.\n",
        "LOG_PATH = f\"{PATH}/out/log.csv\"                      # Ruta del log de entrenamiento."
      ],
      "metadata": {
        "id": "5kT2irF0m-P1",
        "colab": {
          "base_uri": "https://localhost:8080/"
        },
        "outputId": "1fc95536-0090-4554-e317-72be3eb80949"
      },
      "execution_count": 1,
      "outputs": [
        {
          "output_type": "stream",
          "name": "stdout",
          "text": [
            "Mounted at /content/drive\n"
          ]
        }
      ]
    },
    {
      "cell_type": "markdown",
      "source": [
        "### 1.1.b. Parámetros del modelo"
      ],
      "metadata": {
        "id": "4lH4wOmtzBd4"
      }
    },
    {
      "cell_type": "code",
      "source": [
        "# Parámetros del modelo.\n",
        "NUM_CLASSES = 10                  # Cantidad de dígitos distinguibles.\n",
        "IMAGE_SHAPE = (28, 28)            # Imágenes de 28x28.\n",
        "INPUT_SHAPE = (*IMAGE_SHAPE, 1)   # La entrada también es de 28x28 más 1 canal de color."
      ],
      "metadata": {
        "id": "ceW5ODpSzGvX"
      },
      "execution_count": null,
      "outputs": []
    },
    {
      "cell_type": "markdown",
      "source": [
        "### 1.2. Carga de datos"
      ],
      "metadata": {
        "id": "d6IrcuAqlcpA"
      }
    },
    {
      "cell_type": "code",
      "source": [
        "# Carga los datos a partir de la base de datos MNIST.\n",
        "def load_data():\n",
        "  return tf.keras.datasets.mnist.load_data()"
      ],
      "metadata": {
        "id": "ScAD6oxtnCG7"
      },
      "execution_count": 2,
      "outputs": []
    },
    {
      "cell_type": "markdown",
      "source": [
        "### 1.3. Preprocesamiento de datos"
      ],
      "metadata": {
        "id": "fpB6PNslleVD"
      }
    },
    {
      "cell_type": "code",
      "source": [
        "def preprocess_data(data):\n",
        "  # Divide los datos entre los conjuntos de entrenamiento y de prueba.\n",
        "  (x_train, y_train), (x_test, y_test) = data\n",
        "\n",
        "  # Escala imágenes al rango [0, 1].\n",
        "  x_train = x_train.astype(\"float32\") / 255\n",
        "  x_test = x_test.astype(\"float32\") / 255\n",
        "\n",
        "  # Agrega una dimensión para asegurar que tengan la forma de INPUT_SHAPE.\n",
        "  x_train = np.expand_dims(x_train, -1)\n",
        "  x_test = np.expand_dims(x_test, -1)\n",
        "\n",
        "  # Convierte los vectores en matrices de tipo categóricas.\n",
        "  y_train = tf.keras.utils.to_categorical(y_train, NUM_CLASSES)\n",
        "  y_test = tf.keras.utils.to_categorical(y_test, NUM_CLASSES)\n",
        "  return (x_train, y_train), (x_test, y_test)"
      ],
      "metadata": {
        "id": "CXL-2GignFAW"
      },
      "execution_count": 3,
      "outputs": []
    },
    {
      "cell_type": "markdown",
      "source": [
        "### 1.4. Definición del modelo"
      ],
      "metadata": {
        "id": "c8D7J1Xblw3y"
      }
    },
    {
      "cell_type": "code",
      "source": [
        "def assemble_model():\n",
        "  # Define un modelo de red neuronal convolucional (CNN).\n",
        "  model = tf.keras.Sequential([\n",
        "      tf.keras.Input(shape=INPUT_SHAPE),\n",
        "      layers.Conv2D(32, kernel_size=(3, 3), activation=\"relu\"),\n",
        "      layers.MaxPooling2D(pool_size=(2, 2)),\n",
        "      layers.Conv2D(64, kernel_size=(3, 3), activation=\"relu\"),\n",
        "      layers.MaxPooling2D(pool_size=(2, 2)),\n",
        "      layers.Flatten(),\n",
        "      layers.Dropout(0.5),\n",
        "      layers.Dense(NUM_CLASSES, activation=\"softmax\"),\n",
        "  ])\n",
        "\n",
        "  # Configura el modelo para su entrenamiento.\n",
        "  model.compile(\n",
        "      loss=\"categorical_crossentropy\", \n",
        "      optimizer=\"adam\", \n",
        "      metrics=[\"accuracy\"]\n",
        "  )\n",
        "\n",
        "  return model"
      ],
      "metadata": {
        "id": "cTSw4f2LnnHK"
      },
      "execution_count": 4,
      "outputs": []
    },
    {
      "cell_type": "markdown",
      "source": [
        "### 1.5.a. Entrenamiento del modelo\n"
      ],
      "metadata": {
        "id": "IAw6CqQIlzHQ"
      }
    },
    {
      "cell_type": "code",
      "source": [
        "def train_model(model: Model, x_train, y_train) -> Model:\n",
        "  # Se determina el tamaño del lote utilizado para entrenar el modelo.\n",
        "  batch_size = 128\n",
        "\n",
        "  # Se determina el número de épocas, o iteraciones completas a través de todo\n",
        "  # el conjunto de datos de entrenamiento, que se utilizarán para entrenar el modelo.\n",
        "  epochs = 15\n",
        "\n",
        "  # Define un objeto de registro que registra la información de la precisión\n",
        "  # y la pérdida del modelo durante el entrenamiento.\n",
        "  logger = tf.keras.callbacks.CSVLogger(LOG_PATH, append=False)\n",
        "\n",
        "  # Callback que guarda los pesos del modelo después de cada época.\n",
        "  checkpoint = tf.keras.callbacks.ModelCheckpoint(\n",
        "      filepath=WEIGHTS_PATH,\n",
        "      save_weights_only=True,\n",
        "      save_best_only=True,\n",
        "      save_freq=\"epoch\",\n",
        "      monitor=\"val_accuracy\",\n",
        "      mode=\"auto\",\n",
        "      verbose=1,\n",
        "  )\n",
        "\n",
        "  # Entrena el modelo utilizando los datos de entrenamiento.\n",
        "  model.fit(\n",
        "      x_train,\n",
        "      y_train,\n",
        "      batch_size=batch_size,\n",
        "      epochs=epochs,\n",
        "      validation_split=0.1,\n",
        "      callbacks=[logger, checkpoint]\n",
        "  )\n",
        "\n",
        "  return model"
      ],
      "metadata": {
        "id": "rWGRo8JonrME"
      },
      "execution_count": 5,
      "outputs": []
    },
    {
      "cell_type": "markdown",
      "source": [
        "### 1.5.b. Restauración de pesos"
      ],
      "metadata": {
        "id": "Roj_S1btP1ga"
      }
    },
    {
      "cell_type": "code",
      "source": [
        "# Carga de los pesos exportados en el entrenamiento del modelo.\n",
        "def load_model(model: Model) -> Model:\n",
        "    model.load_weights(WEIGHTS_PATH)\n",
        "    return model"
      ],
      "metadata": {
        "id": "qv6-qDVcHihl"
      },
      "execution_count": 6,
      "outputs": []
    },
    {
      "cell_type": "markdown",
      "source": [
        "### 1.6. Normalización de imágenes"
      ],
      "metadata": {
        "id": "Y7x55eBdmEo3"
      }
    },
    {
      "cell_type": "code",
      "source": [
        "from PIL import Image\n",
        "import io\n",
        "\n",
        "# Normalización de la imagen.\n",
        "def normalize_img(img: bytes):\n",
        "  img = Image.open(io.BytesIO(img))               # Convierte una imagen de bytes a formato PIL.\n",
        "  img = img.convert(\"L\")                          # Convierte la imagen en escala de grises.\n",
        "  img = img.resize(IMAGE_SHAPE)                   # Redimensiona la imagen a 28x28.\n",
        "  img_array = np.asarray(img) / 255.0             # Escala los píxeles de la imagen al rango [0, 1].\n",
        "  img_array = np.expand_dims(img_array, axis=0)   # Agrega una dimensión al inicio de cada píxel.\n",
        "  return img_array"
      ],
      "metadata": {
        "id": "h9SFVMEYpbjL"
      },
      "execution_count": 7,
      "outputs": []
    },
    {
      "cell_type": "markdown",
      "source": [
        "### 1.7. Clasificación de dígitos"
      ],
      "metadata": {
        "id": "2FQWDGW069LT"
      }
    },
    {
      "cell_type": "code",
      "source": [
        "# Clasificación de dígitos.\n",
        "def classify_digit(model: Model, img: bytes):\n",
        "  img_array = normalize_img(img)\n",
        "\n",
        "  # Arreglo de n=10, donde cada entrada i corresponde a la probabilidad de que \n",
        "  # el dígito sea el número i. \n",
        "  predictions = model.predict(img_array, verbose=0)\n",
        "\n",
        "  digit = np.argmax(predictions)  # Índice del valor con la probabilidad más alta.\n",
        "  score = np.max(predictions)     # Valor con la probabilidad más alta.\n",
        "  return digit, score"
      ],
      "metadata": {
        "id": "cAz2-qdw6zfA"
      },
      "execution_count": 8,
      "outputs": []
    },
    {
      "cell_type": "markdown",
      "source": [
        "### 1.8. Construcción del modelo"
      ],
      "metadata": {
        "id": "Bi-PpMzE6vbo"
      }
    },
    {
      "cell_type": "code",
      "source": [
        "from enum import unique, Enum\n",
        "import os\n",
        "\n",
        "@unique\n",
        "class ModelMode(str, Enum):\n",
        "    AUTO = \"auto\"\n",
        "    LOAD = \"load\"\n",
        "    TRAIN = \"train\"\n",
        "\n",
        "# Se define el modelo.\n",
        "model = assemble_model()\n",
        "\n",
        "# Técnicamente, si solo se carga el modelo, no es necesario cargar y \n",
        "# preprocesar los datos de entrenamiento, ya que no se necesita entrenamiento \n",
        "# en primer lugar. Se cargan de todas formas para evaluar el modelo más adelante.\n",
        "(x_train, y_train), (x_test, y_test) = preprocess_data(load_data())\n",
        "\n",
        "# Branching lógico de la construcción del modelo, dependiendo si se desea \n",
        "# entrenar, cargar o la que sea necesaria.\n",
        "mode = ModelMode.LOAD\n",
        "if mode == ModelMode.AUTO:\n",
        "    if os.path.isfile(WEIGHTS_PATH):\n",
        "        mode = ModelMode.LOAD \n",
        "    else: \n",
        "        mode = ModelMode.TRAIN\n",
        "\n",
        "if mode == ModelMode.LOAD:\n",
        "    model = load_model(model)\n",
        "\n",
        "elif mode == ModelMode.TRAIN:\n",
        "    model = train_model(model, x_train, y_train)"
      ],
      "metadata": {
        "id": "6EoS2Bcv9nkl"
      },
      "execution_count": 9,
      "outputs": []
    },
    {
      "cell_type": "markdown",
      "source": [
        "### 1.9. Validación de los resultados"
      ],
      "metadata": {
        "id": "6zTKUDg37B1N"
      }
    },
    {
      "cell_type": "code",
      "source": [
        "# Tolerancia de aceptación de una imagen como dígito. Predicciones con una\n",
        "# puntuación mayor o igual a esta tolerancia SON considerados como dígitos.\n",
        "# Predicciones con una puntuación menor NO SON considerados como dígitos.\n",
        "TOLERANCE = 0.7\n",
        "\n",
        "# Valida el rendimiento del modelo utilizando un set de 10 imágenes de prueba.\n",
        "for i in range(0, 10):\n",
        "  with open(f\"{PATH}/tests/passing/{i}.png\", \"rb\") as f:\n",
        "    digit, score = classify_digit(model, f.read())\n",
        "    assert digit == i and score >= TOLERANCE, \\\n",
        "      (f\"La imagen ({digit}) no corresponde con el dígito esperado ({i}) \"\n",
        "       f\"(con una tolerancia del {TOLERANCE}).\")\n",
        "    print(f\"PASSED: {(digit, score)}\")"
      ],
      "metadata": {
        "id": "uaH8bbbxci-k",
        "colab": {
          "base_uri": "https://localhost:8080/"
        },
        "outputId": "7b337a95-3067-40aa-c328-7160329146d5"
      },
      "execution_count": 20,
      "outputs": [
        {
          "output_type": "stream",
          "name": "stdout",
          "text": [
            "PASSED: (0, 0.9999474)\n",
            "PASSED: (1, 0.99993193)\n",
            "PASSED: (2, 0.99999404)\n",
            "PASSED: (3, 0.9999999)\n",
            "PASSED: (4, 0.9999949)\n",
            "PASSED: (5, 0.9999999)\n",
            "PASSED: (6, 0.99989295)\n",
            "PASSED: (7, 0.99999964)\n",
            "PASSED: (8, 0.9999993)\n",
            "PASSED: (9, 0.998978)\n"
          ]
        }
      ]
    },
    {
      "cell_type": "markdown",
      "source": [
        "### 1.8. Análisis del modelo"
      ],
      "metadata": {
        "id": "f2CLCv0Il2GZ"
      }
    },
    {
      "cell_type": "code",
      "source": [
        "# Se valida el modelo utilizando el conjunto de datos de prueba-\n",
        "score = model.evaluate(x_test, y_test, verbose=0)\n",
        "print(\"Test loss:\", score[0])\n",
        "print(\"Test accuracy:\", score[1])\n",
        "\n",
        "# Imprime un resumen del modelo, que muestra la arquitectura de la red, el \n",
        "# número de parámetros entrenables y la forma de los datos en cada capa\n",
        "print(model.summary())\n",
        "\n",
        "# Muestra un diagrama de la arquitectura de la red.\n",
        "from keras.utils import plot_model\n",
        "plot_model(model, show_layer_names=False, show_layer_activations=True)"
      ],
      "metadata": {
        "id": "SnvEq6X9nuCo",
        "colab": {
          "base_uri": "https://localhost:8080/",
          "height": 1000
        },
        "outputId": "1f900671-dcf9-4f17-e0c9-5bbb7a32dd3f"
      },
      "execution_count": 21,
      "outputs": [
        {
          "output_type": "stream",
          "name": "stdout",
          "text": [
            "Test loss: 0.025668218731880188\n",
            "Test accuracy: 0.9916999936103821\n",
            "Model: \"sequential\"\n",
            "_________________________________________________________________\n",
            " Layer (type)                Output Shape              Param #   \n",
            "=================================================================\n",
            " conv2d (Conv2D)             (None, 26, 26, 32)        320       \n",
            "                                                                 \n",
            " max_pooling2d (MaxPooling2D  (None, 13, 13, 32)       0         \n",
            " )                                                               \n",
            "                                                                 \n",
            " conv2d_1 (Conv2D)           (None, 11, 11, 64)        18496     \n",
            "                                                                 \n",
            " max_pooling2d_1 (MaxPooling  (None, 5, 5, 64)         0         \n",
            " 2D)                                                             \n",
            "                                                                 \n",
            " flatten (Flatten)           (None, 1600)              0         \n",
            "                                                                 \n",
            " dropout (Dropout)           (None, 1600)              0         \n",
            "                                                                 \n",
            " dense (Dense)               (None, 10)                16010     \n",
            "                                                                 \n",
            "=================================================================\n",
            "Total params: 34,826\n",
            "Trainable params: 34,826\n",
            "Non-trainable params: 0\n",
            "_________________________________________________________________\n",
            "None\n"
          ]
        },
        {
          "output_type": "execute_result",
          "data": {
            "image/png": "[encoded data removed]",
            "text/plain": [
              "<IPython.core.display.Image object>"
            ]
          },
          "metadata": {},
          "execution_count": 21
        }
      ]
    },
    {
      "cell_type": "code",
      "source": [
        "import pandas as pd\n",
        "import seaborn as sns\n",
        "import matplotlib.pyplot as plt\n",
        "\n",
        "def plot_train_performance(by: str, label: str):\n",
        "  # Lee el log de entrenamiento.\n",
        "  df = pd.read_csv(LOG_PATH, usecols=['epoch', by, f\"val_{by}\"])\n",
        "  sns.set_style(\"darkgrid\")\n",
        "\n",
        "  # Crea un gráfico de línea.\n",
        "  sns.lineplot(x='epoch', y='value', hue='variable', data=pd.melt(df, ['epoch']))\n",
        "\n",
        "  # Define las etiquetas de los ejes x e y.\n",
        "  plt.xlabel('Época')\n",
        "  plt.ylabel(label)\n",
        "\n",
        "  # Muestra el gráfico.\n",
        "  plt.show()\n",
        "\n",
        "print(\"Gráfico de precisión:\")\n",
        "plot_train_performance(\"accuracy\", \"Precisión\")\n",
        "\n",
        "print(\"\\nGráfico de pérdida:\")\n",
        "plot_train_performance(\"loss\", \"Pérdida\")"
      ],
      "metadata": {
        "colab": {
          "base_uri": "https://localhost:8080/",
          "height": 939
        },
        "id": "mRTlurBJ9Gz9",
        "outputId": "d93ccb80-41e8-4b84-9fe0-5be4caa96f5d"
      },
      "execution_count": 22,
      "outputs": [
        {
          "output_type": "stream",
          "name": "stdout",
          "text": [
            "Gráfico de precisión:\n"
          ]
        },
        {
          "output_type": "display_data",
          "data": {
            "text/plain": [
              "<Figure size 640x480 with 1 Axes>"
            ],
            "image/png": "[encoded data removed]"
          },
          "metadata": {}
        },
        {
          "output_type": "stream",
          "name": "stdout",
          "text": [
            "\n",
            "Gráfico de pérdida:\n"
          ]
        },
        {
          "output_type": "display_data",
          "data": {
            "text/plain": [
              "<Figure size 640x480 with 1 Axes>"
            ],
            "image/png": "[encoded data removed]"
          },
          "metadata": {}
        }
      ]
    },
    {
      "cell_type": "markdown",
      "source": [
        "## 2. Frontend"
      ],
      "metadata": {
        "id": "E12e7QVpmKdy"
      }
    },
    {
      "cell_type": "markdown",
      "source": [
        "### 2.1. Comunicación con el modelo"
      ],
      "metadata": {
        "id": "jmtlt2BG7IUV"
      }
    },
    {
      "cell_type": "code",
      "source": [
        "from google.colab import output\n",
        "import IPython as ipy\n",
        "import base64\n",
        "import traceback\n",
        "\n",
        "# Callback que se comunica desde el interior del frontend (vía \n",
        "# `google.colab.kernel.invokeFunction`), para recibir la imagen cargada y\n",
        "# ejecutar el modelo sobre ella.\n",
        "def classify_digit_callback(img):\n",
        "  try:\n",
        "    _, img = img.split(\",\", 1)        # Elimina el prefijo \"data:(...)\"\n",
        "    decoded = base64.b64decode(img)   # Decodifica la imagen desde base64 a un arreglo de byes.\n",
        "\n",
        "    digit, score = classify_digit(model, decoded) # Ejecutar clasificación.\n",
        "    return ipy.display.JSON(dict(digit=digit, score=score)) # Enviar resultados al front.\n",
        "  except Exception:\n",
        "    traceback.print_exc()\n",
        "\n",
        "# Registro del callback de clasificación de dígitos.\n",
        "output.register_callback(\"notebook.classify-digit\", classify_digit_callback)"
      ],
      "metadata": {
        "id": "W05sI-qcRJZo"
      },
      "execution_count": 23,
      "outputs": []
    },
    {
      "cell_type": "markdown",
      "source": [
        "### 2.2. Despliegue final"
      ],
      "metadata": {
        "id": "pZLGqPYA7LQm"
      }
    },
    {
      "cell_type": "code",
      "source": [
        "from string import Template\n",
        "\n",
        "def interpolate_html():\n",
        "  with open(f\"{PATH}/index.html\", \"rb\") as f:\n",
        "    template = Template(f.read().decode(\"utf-8\"))\n",
        "\n",
        "  return template.safe_substitute(TOLERANCE=TOLERANCE)\n",
        "\n",
        "html = interpolate_html()   # HTML interpolado\n",
        "ipy.display.HTML(html)      # Despliegue del front."
      ],
      "metadata": {
        "colab": {
          "base_uri": "https://localhost:8080/",
          "height": 267
        },
        "id": "6GP8O6qzTEaB",
        "outputId": "6fd0e25a-7315-4339-ab8a-8b13af953d6c"
      },
      "execution_count": 31,
      "outputs": [
        {
          "output_type": "execute_result",
          "data": {
            "text/plain": [
              "<IPython.core.display.HTML object>"
            ],
            "text/html": [
              "<!DOCTYPE html>\n",
              "<html lang=\"en\">\n",
              "  <head>\n",
              "    <meta charset=\"UTF-8\" />\n",
              "    <meta http-equiv=\"X-UA-Compatible\" content=\"IE=edge\" />\n",
              "    <meta name=\"viewport\" content=\"width=device-width, initial-scale=1.0\" />\n",
              "    <title>Document</title>\n",
              "  </head>\n",
              "\n",
              "  <body>\n",
              "    <style>\n",
              "      :root {\n",
              "        --purple: 168, 85, 247;\n",
              "        --green: 16, 185, 129;\n",
              "        --red: 244, 63, 94;\n",
              "        --gray: 156, 163, 175;\n",
              "        --white: 226, 232, 240;\n",
              "        --black: 30, 41, 59;\n",
              "\n",
              "        font-size: 16px;\n",
              "        font-family: sans-serif;\n",
              "        color: rgba(var(--black));\n",
              "      }\n",
              "\n",
              "      @media screen and (prefers-color-scheme: dark) {\n",
              "        :root {\n",
              "          color: rgba(var(--white));\n",
              "        }\n",
              "      }\n",
              "\n",
              "      p, span {\n",
              "        opacity: 85%;\n",
              "        max-width: 24rem;\n",
              "      }\n",
              "\n",
              "      .layout {\n",
              "        display: grid;\n",
              "        place-items: center;\n",
              "        margin: 2.5rem auto;\n",
              "      }\n",
              "\n",
              "      #toolbar {\n",
              "        display: flex;\n",
              "        gap: 0 1rem;\n",
              "      }\n",
              "\n",
              "      #title {\n",
              "        font-size: 1.75rem;\n",
              "        margin-bottom: 0.75rem;\n",
              "      }\n",
              "\n",
              "      #subtitle {\n",
              "        margin-bottom: 2.5rem;\n",
              "      }\n",
              "\n",
              "      .underline {\n",
              "        display: inline;\n",
              "        box-shadow: inset 0 -0.5em 0 0 rgba(var(--purple), 0.25);\n",
              "      }\n",
              "\n",
              "      .button {\n",
              "        --color: var(--purple);\n",
              "        all: unset;\n",
              "        padding: 0.75rem 1rem;\n",
              "        background-color: rgba(var(--color));\n",
              "        border-radius: 0.75rem;\n",
              "        color: white;\n",
              "        font-weight: 600;\n",
              "        box-shadow: 0px 8px 19px -3px rgba(var(--color), 0.25);\n",
              "        cursor: pointer;\n",
              "        font-size: 0.85rem;\n",
              "      }\n",
              "\n",
              "      .button:disabled {\n",
              "        background-color: rgba(var(--gray));\n",
              "        box-shadow: none;\n",
              "        cursor: not-allowed;\n",
              "      }\n",
              "\n",
              "      input[type=\"file\"] {\n",
              "        display: none;\n",
              "      }\n",
              "\n",
              "      #button-classify {\n",
              "        --color: var(--green);\n",
              "      }\n",
              "\n",
              "      #button-delete {\n",
              "        --color: var(--red);\n",
              "        display: none;\n",
              "      }\n",
              "\n",
              "      #image-container {\n",
              "        display: none;\n",
              "        width: 256px;\n",
              "        height: 256px;\n",
              "        padding: 2rem 0;\n",
              "      }\n",
              "\n",
              "      #classification-container {\n",
              "        display: none;\n",
              "        flex-direction: column;\n",
              "        align-items: center;\n",
              "      }\n",
              "\n",
              "      #classification-digit {\n",
              "        font-size: 3rem;\n",
              "        font-weight: 400;\n",
              "        margin: 0.5rem 0;\n",
              "      }\n",
              "\n",
              "      #classification-score {\n",
              "        font-weight: 600;\n",
              "        opacity: 100%;\n",
              "      }\n",
              "\n",
              "      #negative-classification {\n",
              "        display: none;\n",
              "        font-style: italic;\n",
              "        text-align: center;\n",
              "      }\n",
              "\n",
              "      #loading-classification {\n",
              "        display: none;\n",
              "        font-style: italic;\n",
              "        text-align: center;\n",
              "      }\n",
              "    </style>\n",
              "\n",
              "    <div class=\"layout\">\n",
              "      <h1 id=\"title\" class=\"underline\">Reconocimiento de dígitos</h1>\n",
              "      <p id=\"subtitle\">Suba una imagen para clasificarla como un dígito del 0 al 9.</p>\n",
              "\n",
              "      <div id=\"toolbar\">\n",
              "        <label id=\"image-input-label\" class=\"button\" for=\"image-input\">Subir imagen</label>\n",
              "        <button id=\"button-delete\" class=\"button\" type=\"button\">Eliminar imagen</button>\n",
              "\n",
              "        <input type=\"file\" id=\"image-input\" name=\"imagen\" accept=\"image/*\" />\n",
              "        <button class=\"button\" id=\"button-classify\" type=\"submit\" disabled>Clasificar</button>\n",
              "      </div>\n",
              "\n",
              "      <img id=\"image-container\"></img>\n",
              "      <div id=\"classification-container\">\n",
              "        <span>El dígito más probable es:</span>\n",
              "        <h2 id=\"classification-digit\"></h2>\n",
              "        <span>Con una probabilidad del <span id=\"classification-score\"></span>.</span>\n",
              "      </div>\n",
              "      <p id=\"negative-classification\"></p>\n",
              "      <p id=\"loading-classification\">Cargando...</p>\n",
              "    </div>\n",
              "\n",
              "    <script>\n",
              "      var imageInput = document.querySelector(\"#image-input\");\n",
              "      var imageInputLabel = document.querySelector(\"#image-input-label\");\n",
              "      var imageContainer = document.querySelector(\"#image-container\");\n",
              "      var deleteButton = document.querySelector(\"#button-delete\");\n",
              "      var classifyButton = document.querySelector(\"#button-classify\");\n",
              "      var classificationContainer = document.querySelector(\"#classification-container\");\n",
              "      var loadingClassification = document.querySelector(\"#loading-classification\");\n",
              "      var negativeClassification = document.querySelector(\"#negative-classification\");\n",
              "\n",
              "      imageInput.addEventListener(\"change\", function (event) {\n",
              "        imageContainer.style.display = \"block\";\n",
              "        classifyButton.disabled = false;\n",
              "        deleteButton.style.display = \"block\";\n",
              "        imageInputLabel.style.display = \"none\";\n",
              "\n",
              "        var imageUrl = URL.createObjectURL(event.target.files[0]);\n",
              "        imageContainer.src = imageUrl;\n",
              "      });\n",
              "\n",
              "      deleteButton.addEventListener(\"click\", function () {\n",
              "        imageContainer.style.display = \"none\";\n",
              "        imageInputLabel.style.display = \"block\";\n",
              "        deleteButton.style.display = \"none\";\n",
              "        classifyButton.disabled = true;\n",
              "        classificationContainer.style.display = \"none\";\n",
              "        negativeClassification.style.display = \"none\";\n",
              "      });\n",
              "\n",
              "      classifyButton.addEventListener(\"click\", async function () {\n",
              "        try {\n",
              "          const file = imageInput.files[0];\n",
              "          const reader = new FileReader();\n",
              "\n",
              "          reader.onload = async function () {\n",
              "            loadingClassification.style.display = \"block\";\n",
              "\n",
              "            const image = reader.result;\n",
              "            const result = await google.colab.kernel.invokeFunction(\n",
              "              \"notebook.classify-digit\",\n",
              "              [image],\n",
              "              {}\n",
              "            );\n",
              "\n",
              "            loadingClassification.style.display = \"none\";\n",
              "            classifyButton.style.disabled = true;\n",
              "\n",
              "            const { digit, score } = result.data[\"application/json\"];\n",
              "\n",
              "            if (score >= 0.7) {\n",
              "              document\n",
              "                .querySelector(\"#classification-digit\")\n",
              "                .replaceChildren(document.createTextNode(digit));\n",
              "\n",
              "              document\n",
              "                .querySelector(\"#classification-score\")\n",
              "                .replaceChildren(document.createTextNode(`${(score * 100).toFixed(6)}%`));\n",
              "\n",
              "              classificationContainer.style.display = \"flex\";\n",
              "            } else {\n",
              "              negativeClassification.innerHTML = `\n",
              "                La imagen ingresada no parece ser un dígito (utilizando una tolerancia del \n",
              "                ${(0.7 * 100).toFixed(0)}%, el dígito más parecido es el ${digit}, \n",
              "                con un ${(score * 100).toFixed(6)}% de probabilidad).\n",
              "              `;\n",
              "\n",
              "              negativeClassification.style.display = \"block\";\n",
              "            }\n",
              "\n",
              "          };\n",
              "\n",
              "          reader.readAsDataURL(file);\n",
              "        } catch (e) {\n",
              "          const content = document.createTextNode(e.message);\n",
              "          classificationContainer.replaceChildren(content);\n",
              "        }\n",
              "      });\n",
              "    </script>\n",
              "  </body>\n",
              "</html>\n",
              "\n"
            ]
          },
          "metadata": {},
          "execution_count": 31
        }
      ]
    }
  ]
}